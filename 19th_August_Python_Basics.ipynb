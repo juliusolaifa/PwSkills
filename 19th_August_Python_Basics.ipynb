{
  "nbformat": 4,
  "nbformat_minor": 0,
  "metadata": {
    "colab": {
      "provenance": [],
      "toc_visible": true
    },
    "kernelspec": {
      "name": "python3",
      "display_name": "Python 3"
    },
    "language_info": {
      "name": "python"
    }
  },
  "cells": [
    {
      "cell_type": "markdown",
      "source": [
        "## TOPIC: Python Basics Variable"
      ],
      "metadata": {
        "id": "JAXfeCLfccCi"
      }
    },
    {
      "cell_type": "markdown",
      "source": [
        "#### 1. Declare two variables, `x` and `y`, and assign them integer values. Swap the values of these variables without using any temporary variable."
      ],
      "metadata": {
        "id": "hBbWuHapcjzo"
      }
    },
    {
      "cell_type": "code",
      "source": [
        "x = 4\n",
        "y = 7\n",
        "x, y = y, x\n",
        "print(\"x = \", x)\n",
        "print(\"y = \", y)"
      ],
      "metadata": {
        "colab": {
          "base_uri": "https://localhost:8080/"
        },
        "id": "-sD8hBv8cgHs",
        "outputId": "880ad742-bcc3-45bb-ec3c-5522dc719046"
      },
      "execution_count": 51,
      "outputs": [
        {
          "output_type": "stream",
          "name": "stdout",
          "text": [
            "x =  7\n",
            "y =  4\n"
          ]
        }
      ]
    },
    {
      "cell_type": "markdown",
      "source": [
        "#### 2. Create a program that calculates the area of a rectangle. Take the length and width as inputs from the user and store them in variables. Calculate and display the area."
      ],
      "metadata": {
        "id": "myhmBeg0c5fj"
      }
    },
    {
      "cell_type": "code",
      "source": [
        "length = int(input(\"Enter the length of the Triangle: \"))\n",
        "width = int(input(\"Enter the width of the Triangle: \"))\n",
        "Area = length * width\n",
        "print(\"The Area of the Triangle = \", Area)"
      ],
      "metadata": {
        "colab": {
          "base_uri": "https://localhost:8080/"
        },
        "id": "Vvjwt14nc3Bl",
        "outputId": "e5cb7737-3031-4389-b515-7a8dbf009dce"
      },
      "execution_count": 52,
      "outputs": [
        {
          "output_type": "stream",
          "name": "stdout",
          "text": [
            "Enter the length of the Triangle: 5\n",
            "Enter the width of the Triangle: 4\n",
            "The Area of the Triangle =  20\n"
          ]
        }
      ]
    },
    {
      "cell_type": "markdown",
      "source": [
        "## TOPIC: String Based Questions"
      ],
      "metadata": {
        "id": "B_Swb6QRz6aP"
      }
    },
    {
      "cell_type": "markdown",
      "source": [
        "#### 1. Write a Python program that takes a string as input and prints the length of the string."
      ],
      "metadata": {
        "id": "MnJ1JO8R0AGe"
      }
    },
    {
      "cell_type": "code",
      "source": [
        "string = input(\"Enter a text here: \")\n",
        "length = len(string)\n",
        "print(f\"The length of {string} is {length}\")"
      ],
      "metadata": {
        "colab": {
          "base_uri": "https://localhost:8080/"
        },
        "id": "iIk_OebEdfxl",
        "outputId": "c90ec9a4-893f-4175-9c51-4b9d422143b0"
      },
      "execution_count": 2,
      "outputs": [
        {
          "output_type": "stream",
          "name": "stdout",
          "text": [
            "Enter a text here: Professor\n",
            "The length of Professor is 9\n"
          ]
        }
      ]
    },
    {
      "cell_type": "markdown",
      "source": [
        "#### 2. Create a program that takes a sentence from the user and counts the number of vowels (a, e, i, o, u) in the string."
      ],
      "metadata": {
        "id": "qB7GhKPV1hST"
      }
    },
    {
      "cell_type": "code",
      "source": [
        "sentence = input(\"Enter a text here: \")\n",
        "vowel = ['a', 'e', 'i', 'o', 'u']\n",
        "sentence = sentence.lower()\n",
        "no_of_vowels = [sentence.count(c) for c in vowel]\n",
        "print(f\"The number of vowels in '{sentence}' is {sum(no_of_vowels)}\")"
      ],
      "metadata": {
        "colab": {
          "base_uri": "https://localhost:8080/"
        },
        "id": "nxzlWu6Z0ys5",
        "outputId": "ad3d63e1-755a-4c5d-f74f-8140487a0d3d"
      },
      "execution_count": 14,
      "outputs": [
        {
          "output_type": "stream",
          "name": "stdout",
          "text": [
            "Enter a text here: A day in the life of a young warlock\n",
            "The number of vowels in 'a day in the life of a young warlock' is 12\n"
          ]
        }
      ]
    },
    {
      "cell_type": "markdown",
      "source": [
        "#### 3. Given a string, reverse the order of characters using string slicing and print the reversed string."
      ],
      "metadata": {
        "id": "Ksrv8DGS4J6I"
      }
    },
    {
      "cell_type": "code",
      "source": [
        "string = input(\"Enter a text here: \")\n",
        "reverse = string[::-1]\n",
        "print(f\"{string} reversed is {reverse}\")"
      ],
      "metadata": {
        "colab": {
          "base_uri": "https://localhost:8080/"
        },
        "id": "08nO1-Rp2muV",
        "outputId": "cfa6be73-f469-49ac-d552-6045ced09473"
      },
      "execution_count": 17,
      "outputs": [
        {
          "output_type": "stream",
          "name": "stdout",
          "text": [
            "Enter a text here: Tunde\n",
            "Tunde reversed is ednuT\n"
          ]
        }
      ]
    },
    {
      "cell_type": "markdown",
      "source": [
        "#### 4. Write a program that takes a string as input and checks if it is a palindrome (reads the same forwards and backwards)."
      ],
      "metadata": {
        "id": "V_A7E7tV5A2Z"
      }
    },
    {
      "cell_type": "code",
      "source": [
        "string = input(\"Enter a text here: \")\n",
        "string = string.lower()\n",
        "if string == string[::-1]:\n",
        "  print(True)\n",
        "else:\n",
        "  print(False)"
      ],
      "metadata": {
        "colab": {
          "base_uri": "https://localhost:8080/"
        },
        "id": "AH54cEkW2qys",
        "outputId": "881ecc75-fb51-43d3-838b-efab9e6da425"
      },
      "execution_count": 20,
      "outputs": [
        {
          "output_type": "stream",
          "name": "stdout",
          "text": [
            "Enter a text here: Aba\n",
            "True\n"
          ]
        }
      ]
    },
    {
      "cell_type": "markdown",
      "source": [
        "#### 5. Create a program that takes a string as input and removes all the spaces from it. Print the modified string without spaces."
      ],
      "metadata": {
        "id": "ZmaZlols6wVa"
      }
    },
    {
      "cell_type": "code",
      "source": [
        "string = input(\"Enter a text here: \")\n",
        "string = ''.join(string.split(' '))\n",
        "print(string)"
      ],
      "metadata": {
        "colab": {
          "base_uri": "https://localhost:8080/"
        },
        "id": "Hyu4f4nb2tBj",
        "outputId": "bd52f95e-497b-4a7d-c5c8-9ab3917e12b1"
      },
      "execution_count": 30,
      "outputs": [
        {
          "output_type": "stream",
          "name": "stdout",
          "text": [
            "Enter a text here: The Lord is my Shephered\n",
            "TheLordismyShephered\n"
          ]
        }
      ]
    },
    {
      "cell_type": "code",
      "source": [],
      "metadata": {
        "id": "bgWTwgZQ7LG6"
      },
      "execution_count": 30,
      "outputs": []
    }
  ]
}